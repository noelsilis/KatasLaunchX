{
 "cells": [
  {
   "cell_type": "markdown",
   "metadata": {},
   "source": [
    "## Ejercicio1: Crear y usar listas de Python"
   ]
  },
  {
   "cell_type": "code",
   "execution_count": 1,
   "metadata": {},
   "outputs": [],
   "source": [
    "planetas = [\"Mercurio\",\"Venus\",\"Tierra\",\"Marte\",\"Júpiter\",\"Saturno\",\"Urano\",\"Neptuno\"]"
   ]
  },
  {
   "cell_type": "code",
   "execution_count": 2,
   "metadata": {},
   "outputs": [
    {
     "name": "stdout",
     "output_type": "stream",
     "text": [
      "Número de planetas: 9\n",
      "Ultimo planeta de la lista:  Plutón\n"
     ]
    }
   ],
   "source": [
    "planetas.append(\"Plutón\")\n",
    "print(\"Número de planetas: \"+str(len(planetas)))\n",
    "print(\"Ultimo planeta de la lista: \", planetas[-1])"
   ]
  },
  {
   "cell_type": "markdown",
   "metadata": {},
   "source": [
    "## Ejercicio 2: Trabajando con datos de una lista"
   ]
  },
  {
   "cell_type": "code",
   "execution_count": 3,
   "metadata": {},
   "outputs": [],
   "source": [
    "# Lista de planetas\n",
    "planets = ['Mercury', 'Venus', 'Earth', 'Mars', 'Jupiter', 'Saturn', 'Neptune']"
   ]
  },
  {
   "cell_type": "code",
   "execution_count": 7,
   "metadata": {},
   "outputs": [
    {
     "name": "stdout",
     "output_type": "stream",
     "text": [
      "Planetas más cercanos al sol despues de  Mars :  ['Jupiter', 'Saturn', 'Neptune']\n",
      "Planetas más lejanos del sol antes de  Mars :  ['Mercury', 'Venus', 'Earth']\n"
     ]
    }
   ],
   "source": [
    "filtroPlaneta = input(\"Ingresa el nombre de algún planeta (la primera letra en mayúscula)\")\n",
    "planet_index = planets.index(filtroPlaneta)\n",
    "print(\"Planetas más cercanos al sol despues de \", planets[planet_index], \": \", planets[planet_index+1:])\n",
    "print(\"Planetas más lejanos del sol antes de \", planets[planet_index], \": \", planets[0:planet_index])"
   ]
  }
 ],
 "metadata": {
  "interpreter": {
   "hash": "916dbcbb3f70747c44a77c7bcd40155683ae19c65e1c03b4aa3499c5328201f1"
  },
  "kernelspec": {
   "display_name": "Python 3.8.10 64-bit",
   "language": "python",
   "name": "python3"
  },
  "language_info": {
   "codemirror_mode": {
    "name": "ipython",
    "version": 3
   },
   "file_extension": ".py",
   "mimetype": "text/x-python",
   "name": "python",
   "nbconvert_exporter": "python",
   "pygments_lexer": "ipython3",
   "version": "3.8.10"
  },
  "orig_nbformat": 4
 },
 "nbformat": 4,
 "nbformat_minor": 2
}
