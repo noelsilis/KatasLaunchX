{
 "cells": [
  {
   "cell_type": "markdown",
   "metadata": {},
   "source": [
    "##  Ejercicio: Uso de funciones en Python\n",
    "\n",
    "Ejercicio 1: Trabajar con argumentos en funciones"
   ]
  },
  {
   "cell_type": "code",
   "execution_count": 1,
   "metadata": {},
   "outputs": [],
   "source": [
    "def informe(tanque1, tanque2, tanque3):\n",
    "    print(f'Informe tanques: \\n Tanque 1: {tanque1} \\n Tanque 2: {tanque2} \\n Tanque 3: {tanque3} ')\n",
    "    promedio(tanque1,tanque2,tanque3)\n",
    "\n",
    "def promedio(*args):\n",
    "    promedio = sum(args)/3\n",
    "    print(\"Promedio: \"+str(promedio))"
   ]
  },
  {
   "cell_type": "code",
   "execution_count": 5,
   "metadata": {},
   "outputs": [
    {
     "name": "stdout",
     "output_type": "stream",
     "text": [
      "Informe tanques: \n",
      " Tanque 1: 0 \n",
      " Tanque 2: 0 \n",
      " Tanque 3: 5 \n",
      "Promedio: 1.6666666666666667\n"
     ]
    }
   ],
   "source": [
    "informe(0,0,5)"
   ]
  },
  {
   "cell_type": "markdown",
   "metadata": {},
   "source": [
    "## Ejercicio 2: Trabajo con argumentos de palabra clave\n",
    "Ejercicio : Trabajar con argumentos de palabras clave en funciones"
   ]
  },
  {
   "cell_type": "code",
   "execution_count": 8,
   "metadata": {},
   "outputs": [
    {
     "name": "stdout",
     "output_type": "stream",
     "text": [
      "Tiempo: 5hr \n",
      "Destino: Luna\n",
      "Pre-lanzamiento: 10hrs \n",
      "Tanque interno: 20000 \n",
      "Tanque externo: 10000\n"
     ]
    }
   ],
   "source": [
    "def informe2(tiempo_vuelo, destino, pre_lanzamiento, tanque_int, tanque_ext):\n",
    "    print(f'Tiempo: {tiempo_vuelo} \\nDestino: {destino}')\n",
    "    print(f'Pre-lanzamiento: {pre_lanzamiento} \\nTanque interno: {tanque_int} \\nTanque externo: {tanque_ext}')\n",
    "informe2(\"5hr\",\"Luna\",\"10hrs\",20000,10000)"
   ]
  },
  {
   "cell_type": "code",
   "execution_count": 13,
   "metadata": {},
   "outputs": [],
   "source": [
    "def informe2(destino, *minutes, **tanques):\n",
    "    total_minutes = sum(minutes)\n",
    "    print(f'Destino: {destino}')\n",
    "    print(f'Minutos: {total_minutes}')\n",
    "    for title, name in tanques.items():\n",
    "        print(f'{title} : {name}')"
   ]
  },
  {
   "cell_type": "code",
   "execution_count": 14,
   "metadata": {},
   "outputs": [
    {
     "name": "stdout",
     "output_type": "stream",
     "text": [
      "Destino: Luna\n",
      "Minutos: 87000\n",
      "tanque_izq : 10000\n",
      "tanque_der : 2000\n",
      "tanque_int : 30000\n",
      "tanque_ext : 40000\n"
     ]
    }
   ],
   "source": [
    "informe2(\"Luna\",20000,54000,13000,tanque_izq=10000, tanque_der=2000, tanque_int=30000, tanque_ext=40000)"
   ]
  }
 ],
 "metadata": {
  "interpreter": {
   "hash": "916dbcbb3f70747c44a77c7bcd40155683ae19c65e1c03b4aa3499c5328201f1"
  },
  "kernelspec": {
   "display_name": "Python 3.8.10 64-bit",
   "language": "python",
   "name": "python3"
  },
  "language_info": {
   "codemirror_mode": {
    "name": "ipython",
    "version": 3
   },
   "file_extension": ".py",
   "mimetype": "text/x-python",
   "name": "python",
   "nbconvert_exporter": "python",
   "pygments_lexer": "ipython3",
   "version": "3.8.10"
  },
  "orig_nbformat": 4
 },
 "nbformat": 4,
 "nbformat_minor": 2
}
