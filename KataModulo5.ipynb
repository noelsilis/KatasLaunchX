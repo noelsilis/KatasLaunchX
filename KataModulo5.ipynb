{
 "cells": [
  {
   "cell_type": "markdown",
   "metadata": {},
   "source": [
    "## Ejercicio1 - Utilizar operadores aritméticos"
   ]
  },
  {
   "cell_type": "code",
   "execution_count": 7,
   "metadata": {},
   "outputs": [
    {
     "name": "stdout",
     "output_type": "stream",
     "text": [
      "628949330 km\n",
      "390577534 Millas\n"
     ]
    }
   ],
   "source": [
    "# Crear variables para almacenar las dos distancias\n",
    "# ¡Asegúrate de quitar las comas!\n",
    "\n",
    "distanciaTierra = 149597870\n",
    "distanciaJupiter = 778547200\n",
    "\n",
    "distanciaEntrePlanetasKm = distanciaTierra-distanciaJupiter\n",
    "distanciaEntrePlanetasMillas = distanciaEntrePlanetasKm * 0.621\n",
    "print(str(abs(distanciaEntrePlanetasKm))+\" km\")\n",
    "print(str(abs(round(distanciaEntrePlanetasMillas)))+\" Millas\")"
   ]
  },
  {
   "cell_type": "markdown",
   "metadata": {},
   "source": [
    "## Ejercicio 2: convierte cadenas en números y usa valores absolutos"
   ]
  },
  {
   "cell_type": "code",
   "execution_count": 8,
   "metadata": {},
   "outputs": [
    {
     "name": "stdout",
     "output_type": "stream",
     "text": [
      "50300000 km\n",
      "31236300 Millas\n"
     ]
    }
   ],
   "source": [
    "planeta_1 = int(input(\"Ingresa la distancia del primer planeta del sol, en km\"))\n",
    "planeta_2 = int(input(\"Ingresa la distancia del segundo planeta del sol, en km\"))\n",
    "\n",
    "distanciaEntrePlanetasKm = planeta_1-planeta_2\n",
    "distanciaEntrePlanetasMillas = distanciaEntrePlanetasKm * 0.621\n",
    "print(str(abs(distanciaEntrePlanetasKm))+\" km\")\n",
    "print(str(abs(round(distanciaEntrePlanetasMillas)))+\" Millas\")"
   ]
  }
 ],
 "metadata": {
  "language_info": {
   "name": "python"
  },
  "orig_nbformat": 4
 },
 "nbformat": 4,
 "nbformat_minor": 2
}
